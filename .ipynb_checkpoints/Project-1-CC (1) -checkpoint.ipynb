{
 "cells": [
  {
   "cell_type": "markdown",
   "metadata": {},
   "source": [
    "<img src=\"http://imgur.com/1ZcRyrc.png\" style=\"float: left; margin: 20px; height: 55px\">\n",
    "\n",
    "# Project 1: Python Coding Exercises\n",
    "\n",
    "_Authors: Joseph Nelson (DC) _\n",
    "\n",
    "---"
   ]
  },
  {
   "cell_type": "markdown",
   "metadata": {},
   "source": [
    "The following code challenges are drawn from common exercises used in technical interviews.\n",
    "\n",
    "Please note that there may be several ways to approach each challenge. If you get stuck, try mapping out your approach in pseudocode first. Finally, while solutions to problems like these may be found online, remember that if you copy/paste code that you can't explain, you'll be missing out on the point of the project. The only way to truly learn a new skill is through practice, trial, and error - we can only help you improve by understanding where you are having trouble."
   ]
  },
  {
   "cell_type": "markdown",
   "metadata": {},
   "source": [
    "### Challenge 1: Largest Palindrome\n",
    "A palindromic number reads the same both ways. For example, 1234321 is a palindrome. The largest palindrome made from the product of two two-digit numbers is 9009 = 91 × 99. Find the largest palindrome made from the product of two three-digit numbers. Afterward, write a brief explanation walking through your code's logic in markdown."
   ]
  },
  {
   "cell_type": "code",
   "execution_count": 134,
   "metadata": {},
   "outputs": [
    {
     "name": "stdout",
     "output_type": "stream",
     "text": [
      "906609\n"
     ]
    }
   ],
   "source": [
    "#This checks whether the string return is a palindrome.\n",
    "def palindrome_3d(i):\n",
    "    return str(i) == str(i)[::-1]\n",
    "\n",
    "#This is the starting value\n",
    "largest_p = 0\n",
    "\n",
    "# Using a for loop within a for loop to calculate the product of two three digit numbers and checks if it is a palindrome\n",
    "for i in range(100,999):\n",
    "    for j in range(i+1, 1000):\n",
    "        p = i *j\n",
    "        if palindrome_3d(p) and p >largest_p:\n",
    "            largest_p = p\n",
    "            \n",
    "print(largest_p)"
   ]
  },
  {
   "cell_type": "markdown",
   "metadata": {},
   "source": [
    "<span style=\"color:blue\">\n",
    "Comments\n",
    "<br>\n",
    "<span style=\"color:blue\">- Great use of string indexing to check if the number is a palindrome <br>\n",
    "<span style=\"color:blue\">- Your code returns the correct answer.. but for your for j in range() for loop, why did you start with i+1? Does that mean you should not try 100*100, or 101*101...etc? Remember that you can actually use range in a decreasing manner as well. With that logic, the first palindrome will that you find will be the largest if you start from 999x999.\n",
    "    "
   ]
  },
  {
   "cell_type": "markdown",
   "metadata": {},
   "source": [
    "\n",
    "### Challenge 2: Summation of Primes\n",
    "The sum of the primes below 10 is 2 + 3 + 5 + 7 = 17. Find the sum of all the primes below 2,000. Afterward, write a brief explanation walking through your code's logic in markdown."
   ]
  },
  {
   "cell_type": "code",
   "execution_count": 135,
   "metadata": {},
   "outputs": [
    {
     "name": "stdout",
     "output_type": "stream",
     "text": [
      "277050\n"
     ]
    }
   ],
   "source": [
    "#creates a list to append prime numbers\n",
    "prime_list = []\n",
    "\n",
    "#for loop to check whether it is a prime number and appends it into the list\n",
    "for i in range(2,2001):\n",
    "    prime_num = True\n",
    "    \n",
    "    for j in range(2,i):\n",
    "        if i % j == 0:\n",
    "               prime_num = False\n",
    "                \n",
    "    if prime_num:\n",
    "            prime_list.append(i)\n",
    "#summation of prime numbers from the appended list     \n",
    "sum_prime = sum(prime_list)\n",
    "    \n",
    "print(sum_prime)"
   ]
  },
  {
   "cell_type": "markdown",
   "metadata": {},
   "source": [
    "<span style=\"color:blue\">\n",
    "Comments\n",
    "<br>\n",
    "<span style=\"color:blue\">- Awesome job using modulo to get your prime numbers <br>\n",
    "<span style=\"color:blue\">- The instructions states to find the sum of all the primes below 2000, so just be careful next time when you are indicating your range. In this case, what would you change in the code so that you only find prime numbers below 2000? :) <br>"
   ]
  },
  {
   "cell_type": "markdown",
   "metadata": {},
   "source": [
    "### Challenge 3: Multiples of 3 and 5\n",
    "If we list all of the natural numbers below 10 that are multiples of 3 or 5, we get 3, 5, 6, and 9. The sum of these multiples is 23. Find the sum of all the multiples of 3 and 5 below 1,000. Afterward, write a brief explanation walking through your code's logic in markdown."
   ]
  },
  {
   "cell_type": "code",
   "execution_count": 136,
   "metadata": {},
   "outputs": [
    {
     "name": "stdout",
     "output_type": "stream",
     "text": [
      "233168\n"
     ]
    }
   ],
   "source": [
    "#Starting value of sum of multiples\n",
    "multiple_sum = 0\n",
    "\n",
    "#takes the value of i whenever it is a multiple of 3 or 5 and adds it to itself\n",
    "for i in range(1,1000):\n",
    "    if i % 3 ==0 or i % 5 == 0:\n",
    "        multiple_sum += i\n",
    "        \n",
    "print(multiple_sum)        \n"
   ]
  },
  {
   "cell_type": "markdown",
   "metadata": {},
   "source": [
    "<span style=\"color:blue\">\n",
    "Comments\n",
    "<br>\n",
    "<span style=\"color:blue\">- Great job!"
   ]
  },
  {
   "cell_type": "markdown",
   "metadata": {},
   "source": [
    "### Challenge 4: String Compressor\n",
    "Implement a method to perform basic string compression using the counts of repeated characters. (This is called run-length encoding.) For example, the string \"aabcccccaaa\" would become a2b1c5a3. If the “compressed” string would not become smaller than the original string, your method should return the original string. You can assume the string has only uppercase and lowercase letters (a–z). Specify whether your solution is case sensitive or case insensitive and what you would need to change to make it the other. Afterward, write a brief explanation walking through your code's logic in markdown."
   ]
  },
  {
   "cell_type": "code",
   "execution_count": 2,
   "metadata": {
    "scrolled": true
   },
   "outputs": [
    {
     "name": "stdout",
     "output_type": "stream",
     "text": [
      "a2b1c5a3\n",
      "a4f4g3A2a2\n"
     ]
    }
   ],
   "source": [
    "#creates two test strings to test the string compressor\n",
    "test_string1 = \"aabcccccaaa\"\n",
    "test_string2 = \"aaaaffffgggAAaa\"\n",
    "\n",
    "#checking the first character with the second character and appropriately adding it into the form of a2 b1...\n",
    "def string_compressor(in_string):\n",
    "    comp_string = \"\"\n",
    "    count = 1 \n",
    "    for i in range(len(in_string)-1):\n",
    "        if in_string[i] == in_string[i+1]:\n",
    "            count += 1\n",
    "        else: \n",
    "            comp_string += in_string[i]+ str(count)\n",
    "            count = 1\n",
    "    comp_string += in_string[i]+ str(count)\n",
    "#if length of compressed string is shorter than length of input string, the if-else returns the compressed string\n",
    "    if len(comp_string) >= len(in_string):\n",
    "        return in_string\n",
    "    else: \n",
    "        return comp_string\n",
    "    \n",
    "print(string_compressor(test_string1))\n",
    "print(string_compressor(test_string2))\n",
    "\n",
    "#this code is case sensitive, it will capture upper and lowercase characters separately"
   ]
  },
  {
   "cell_type": "markdown",
   "metadata": {},
   "source": [
    "<span style=\"color:blue\">\n",
    "Comments\n",
    "<br>\n",
    "<span style=\"color:blue\">- awesome job! If the instructions were to tell you that it should not be case sensitive, what would you change? "
   ]
  },
  {
   "cell_type": "markdown",
   "metadata": {},
   "source": [
    "### *BONUS* Challenge: FizzBuzz\n",
    "Write a program that prints all of the numbers from 1 to 100. For multiples of 3, instead of the number, print \"Fizz;\" for multiples of 5, print \"Buzz.\" For numbers that are multiples of both 3 and 5, print \"FizzBuzz.\" Afterward, write a brief explanation walking through your code's logic in markdown."
   ]
  },
  {
   "cell_type": "code",
   "execution_count": 162,
   "metadata": {},
   "outputs": [
    {
     "name": "stdout",
     "output_type": "stream",
     "text": [
      "1\n",
      "2\n",
      "Fizz\n",
      "4\n",
      "Buzz\n",
      "Fizz\n",
      "7\n",
      "8\n",
      "Fizz\n",
      "Buzz\n",
      "11\n",
      "Fizz\n",
      "13\n",
      "14\n",
      "FizzBuzz\n",
      "16\n",
      "17\n",
      "Fizz\n",
      "19\n",
      "Buzz\n",
      "Fizz\n",
      "22\n",
      "23\n",
      "Fizz\n",
      "Buzz\n",
      "26\n",
      "Fizz\n",
      "28\n",
      "29\n",
      "FizzBuzz\n",
      "31\n",
      "32\n",
      "Fizz\n",
      "34\n",
      "Buzz\n",
      "Fizz\n",
      "37\n",
      "38\n",
      "Fizz\n",
      "Buzz\n",
      "41\n",
      "Fizz\n",
      "43\n",
      "44\n",
      "FizzBuzz\n",
      "46\n",
      "47\n",
      "Fizz\n",
      "49\n",
      "Buzz\n",
      "Fizz\n",
      "52\n",
      "53\n",
      "Fizz\n",
      "Buzz\n",
      "56\n",
      "Fizz\n",
      "58\n",
      "59\n",
      "FizzBuzz\n",
      "61\n",
      "62\n",
      "Fizz\n",
      "64\n",
      "Buzz\n",
      "Fizz\n",
      "67\n",
      "68\n",
      "Fizz\n",
      "Buzz\n",
      "71\n",
      "Fizz\n",
      "73\n",
      "74\n",
      "FizzBuzz\n",
      "76\n",
      "77\n",
      "Fizz\n",
      "79\n",
      "Buzz\n",
      "Fizz\n",
      "82\n",
      "83\n",
      "Fizz\n",
      "Buzz\n",
      "86\n",
      "Fizz\n",
      "88\n",
      "89\n",
      "FizzBuzz\n",
      "91\n",
      "92\n",
      "Fizz\n",
      "94\n",
      "Buzz\n",
      "Fizz\n",
      "97\n",
      "98\n",
      "Fizz\n",
      "Buzz\n"
     ]
    }
   ],
   "source": [
    "#sets the range of i from 1 to 100\n",
    "for i in range(1,101):\n",
    "#Checks if i is divisible by both 3 and 5 and prints FizzBuzz\n",
    "    if i % 3 == 0 and i % 5 ==0:\n",
    "            print(\"FizzBuzz\")\n",
    "#Checks if i is divisible by both 3 and prints Fizz       \n",
    "    elif i % 3 ==0:\n",
    "        print(\"Fizz\")\n",
    "#Checks if i is divisible by 5 and prints Buzz\n",
    "    elif i % 5 == 0:\n",
    "        print(\"Buzz\")\n",
    "#Checks if i is not divisible by 3 or 5 and prints the value of i\n",
    "    else:\n",
    "        print(i)\n",
    "           "
   ]
  },
  {
   "cell_type": "markdown",
   "metadata": {},
   "source": [
    "<span style=\"color:blue\">\n",
    "Comments\n",
    "<br>\n",
    "<span style=\"color:blue\">- Great job!"
   ]
  },
  {
   "cell_type": "code",
   "execution_count": null,
   "metadata": {
    "collapsed": true
   },
   "outputs": [],
   "source": []
  }
 ],
 "metadata": {
  "anaconda-cloud": {},
  "kernelspec": {
   "display_name": "Python 3",
   "language": "python",
   "name": "python3"
  },
  "language_info": {
   "codemirror_mode": {
    "name": "ipython",
    "version": 3
   },
   "file_extension": ".py",
   "mimetype": "text/x-python",
   "name": "python",
   "nbconvert_exporter": "python",
   "pygments_lexer": "ipython3",
   "version": "3.6.4"
  }
 },
 "nbformat": 4,
 "nbformat_minor": 2
}
