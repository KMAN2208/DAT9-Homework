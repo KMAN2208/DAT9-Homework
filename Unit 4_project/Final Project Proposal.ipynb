{
 "cells": [
  {
   "cell_type": "markdown",
   "metadata": {},
   "source": [
    "Project Proposal: To find the universal features in languages from similar regions. (Classification)\n",
    "\n",
    "\n",
    "\n",
    "Hypothesis/assumptions\n",
    "All languages should contain a structure of words that comprises of consonants and vowels in a certain order and sentence structure.  \n",
    "\n",
    "\n",
    "\n",
    "\n",
    "Goals and success metrics\n",
    "Countries that belong to a similar region should contain similar language features. \n",
    "\n",
    "\n",
    "\n",
    "\n",
    "Risks or limitations\n",
    "The problem statement is a classification problem which merely classifies the offical language based on the types of parameters. It does not take into account of dialects of language."
   ]
  }
 ],
 "metadata": {
  "kernelspec": {
   "display_name": "Python 3",
   "language": "python",
   "name": "python3"
  },
  "language_info": {
   "codemirror_mode": {
    "name": "ipython",
    "version": 3
   },
   "file_extension": ".py",
   "mimetype": "text/x-python",
   "name": "python",
   "nbconvert_exporter": "python",
   "pygments_lexer": "ipython3",
   "version": "3.7.0"
  }
 },
 "nbformat": 4,
 "nbformat_minor": 2
}
